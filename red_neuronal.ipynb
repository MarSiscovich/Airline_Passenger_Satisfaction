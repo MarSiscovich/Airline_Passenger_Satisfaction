{
 "cells": [
  {
   "cell_type": "markdown",
   "metadata": {},
   "source": [
    "# Parte 2: Desarrollo de la Red Neuronal"
   ]
  },
  {
   "cell_type": "markdown",
   "metadata": {},
   "source": [
    "### Forward Propagation"
   ]
  },
  {
   "cell_type": "code",
   "execution_count": 7,
   "metadata": {},
   "outputs": [
    {
     "name": "stdout",
     "output_type": "stream",
     "text": [
      "ACCURACY:  0.5140316433768334\n"
     ]
    }
   ],
   "source": [
    "import numpy as np\n",
    "import pandas as pd\n",
    "from sklearn.model_selection import train_test_split\n",
    "\n",
    "# Simular carga de datos\n",
    "df = pd.read_csv(\"pasajeros_actualizado.csv\")  # Cambia esto por la ruta real de tu archivo\n",
    "\n",
    "# Preprocesamiento de datos\n",
    "# Extraer las columnas de entrada y salida\n",
    "all_inputs = df.iloc[:, :-1].values  # Las primeras 16 columnas como entrada\n",
    "all_outputs = df.iloc[:, -1].values  # La última columna como salida\n",
    "\n",
    "# Normalización si es necesario (ajustar según los datos)\n",
    "all_inputs = all_inputs / np.max(all_inputs, axis=0)\n",
    "\n",
    "# Dividir en un conjunto de entrenamiento y uno de prueba\n",
    "X_train, X_test, Y_train, Y_test = train_test_split(all_inputs, all_outputs, test_size=1/3, random_state=42)\n",
    "\n",
    "# Parámetros de la red\n",
    "input_size = X_train.shape[1]\n",
    "hidden_size = 16  # Ajusta este tamaño según sea necesario\n",
    "output_size = 1  # Una sola neurona de salida\n",
    "\n",
    "# Iniciar pesos y sesgos aleatoriamente\n",
    "w_hidden = np.random.randn(hidden_size, input_size) * np.sqrt(2. / input_size)  # Inicialización He\n",
    "w_output = np.random.randn(output_size, hidden_size) * np.sqrt(2. / hidden_size)  # Inicialización He\n",
    "\n",
    "b_hidden = np.zeros((hidden_size, 1))\n",
    "b_output = np.zeros((output_size, 1))\n",
    "\n",
    "# Funciones de activación\n",
    "relu = lambda x: np.maximum(x, 0)\n",
    "tanh = lambda x: np.tanh(x)\n",
    "\n",
    "# Función de forward propagation\n",
    "def forward_prop(X):\n",
    "    Z1 = w_hidden @ X + b_hidden\n",
    "    A1 = relu(Z1)\n",
    "    Z2 = w_output @ A1 + b_output\n",
    "    A2 = tanh(Z2)\n",
    "    return Z1, A1, Z2, A2\n",
    "\n",
    "# Calculo de precisión\n",
    "def predict(A2):\n",
    "    # Convertir la salida en -1, 0 o 1 basado en umbrales\n",
    "    return np.where(A2 < -0.5, -1, np.where(A2 > 0.5, 1, 0))\n",
    "\n",
    "# Predicciones del conjunto de prueba\n",
    "_, _, _, test_predictions = forward_prop(X_test.T)\n",
    "test_predictions = predict(test_predictions)\n",
    "\n",
    "accuracy = np.mean(test_predictions.flatten() == Y_test)\n",
    "print(\"ACCURACY: \", accuracy)"
   ]
  }
 ],
 "metadata": {
  "kernelspec": {
   "display_name": "Python 3",
   "language": "python",
   "name": "python3"
  },
  "language_info": {
   "codemirror_mode": {
    "name": "ipython",
    "version": 3
   },
   "file_extension": ".py",
   "mimetype": "text/x-python",
   "name": "python",
   "nbconvert_exporter": "python",
   "pygments_lexer": "ipython3",
   "version": "3.12.3"
  }
 },
 "nbformat": 4,
 "nbformat_minor": 2
}
