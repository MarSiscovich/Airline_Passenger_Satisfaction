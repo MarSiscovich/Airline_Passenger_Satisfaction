{
 "cells": [
  {
   "cell_type": "markdown",
   "metadata": {},
   "source": [
    "# Parte 2: Desarrollo de la Red Neuronal"
   ]
  },
  {
   "cell_type": "markdown",
   "metadata": {},
   "source": [
    "### Forward Propagation"
   ]
  },
  {
   "cell_type": "code",
   "execution_count": 8,
   "metadata": {},
   "outputs": [],
   "source": [
    "import numpy as np\n",
    "import pandas as pd\n",
    "from sklearn.model_selection import train_test_split\n",
    "from sklearn.preprocessing import StandardScaler\n",
    "\n",
    "# cargo el conjunto de datos\n",
    "all_data = pd.read_csv(\"pasajeros_actualizado.csv\")\n",
    "\n",
    "# selecciono todas las columnas de entrada del conjunto de datos \n",
    "all_inputs = all_data.iloc[:, 0:16].values\n",
    "\n",
    "# selecciono la columna de salida del conjunto de datos\n",
    "all_outputs = all_data.iloc[:, -1].values\n",
    "\n",
    "# escalo los datos de entrada (StandarScaler realiza una estandarización de los datos)\n",
    "scaler = StandardScaler()\n",
    "# transformo las entradas para tener una media de 0 y una desviación estándar de 1\n",
    "all_inputs = scaler.fit_transform(all_inputs)\n",
    "\n",
    "# Dividir los conjuntos de datos de entrenamiento y prueba\n",
    "X_train, X_test, Y_train, Y_test = train_test_split(all_inputs, all_outputs, test_size=1 / 3)\n",
    "n = X_train.shape[0] # cantidad de ejemplos en el conjunto de entrenamiento (n = 17317)\n",
    "\n",
    "# defino funciones de activación\n",
    "relu = lambda x: np.maximum(x, 0)  # ReLU porque no tengo valores negativos\n",
    "logistic = lambda x: 1 / (1 + np.exp(-x)) # Logística para la capa de salida (salida binaria) \n",
    "\n",
    "# inicializo pesos y sesgos de la red con una semilla = 79 (para reproducibilidad)\n",
    "np.random.seed(79)\n",
    "w_hidden = np.random.rand(12, 16)   # pesos primera capa oculta\n",
    "w_hidden2 = np.random.rand(8, 12)   # pesos segunda capa oculta        \n",
    "w_output = np.random.rand(1, 8)     # pesos capa de salida\n",
    "\n",
    "b_hidden = np.random.rand(12, 1)    # sesgos primera capa oculta   \n",
    "b_hidden2 = np.random.rand(8, 1)    # sesgos segunda capa oculta\n",
    "b_output = np.random.rand(1, 1)     # sesgos capa de salida\n",
    "\n",
    "# funcion Forward Propagation \n",
    "def forward_prop(X):\n",
    "    Z1 = w_hidden @ X + b_hidden       # entrada ponderada de la primera capa oculta\n",
    "    A1 = relu(Z1)                      # ReLU en la primera capa oculta\n",
    "    Z2 = w_hidden2 @ A1 + b_hidden2    # entrada ponderada de la segunda capa oculta\n",
    "    A2 = relu(Z2)                      # ReLU en la segunda capa oculta\n",
    "    Z3 = w_output @ A2 + b_output      # entrada ponderada de la capa de salida\n",
    "    A3 = logistic(Z3)                  # logistica en la capa de salida\n",
    "    return Z1, A1, Z2, A2, Z3, A3"
   ]
  },
  {
   "cell_type": "markdown",
   "metadata": {},
   "source": [
    "Precisión No entrenada"
   ]
  },
  {
   "cell_type": "code",
   "execution_count": 9,
   "metadata": {},
   "outputs": [
    {
     "name": "stdout",
     "output_type": "stream",
     "text": [
      "0.4477422335142317\n"
     ]
    }
   ],
   "source": [
    "# Calculo de precisión\n",
    "test_predictions = forward_prop(X_test.transpose())[5]  # obtengo A3\n",
    "test_comparisons = np.equal((test_predictions >= .5).flatten().astype(int), Y_test) # comparo predicciones con reales\n",
    "accuracy = sum(test_comparisons.astype(int) / X_test.shape[0]) # calculo precisión\n",
    "\n",
    "print(accuracy)"
   ]
  },
  {
   "cell_type": "markdown",
   "metadata": {},
   "source": [
    "### Back Propagation"
   ]
  },
  {
   "cell_type": "code",
   "execution_count": 10,
   "metadata": {},
   "outputs": [],
   "source": [
    "# Tasa de aprendizaje\n",
    "L = 0.01\n",
    "\n",
    "# Derivadas de las funciones de activación\n",
    "d_relu = lambda x: x > 0\n",
    "d_logistic = lambda x: np.exp(-x) / (1 + np.exp(-x)) ** 2\n",
    "\n",
    "# Función de backward propagation\n",
    "# calculos con derivadas para obtener la derivada del costo con respecto a W3, W2, W1, B3, B2 B1\n",
    "def backward_prop(Z1, A1, Z2, A2, Z3, A3, X, Y):\n",
    "    dC_dA3 = 2 * (A3 - Y)           \n",
    "    dA3_dZ3 = d_logistic(Z3)\n",
    "    dZ3_dW3 = A2\n",
    "    dZ3_dA2 = w_output\n",
    "    dC_dZ3 = dC_dA3 * dA3_dZ3   # lo que me faltaba en mi codigo anterior para los proximos calculos \n",
    "                                # * para realizar la multiplicaion elemento por elemento \n",
    "                                # multiplico dos gradientes para obtener como cambia el costo cuando cambia la entrada ponderada (otro gradiente) \n",
    "\n",
    "    dC_dA2 = dZ3_dA2.T @ dC_dZ3\n",
    "    dA2_dZ2 = d_relu(Z2)\n",
    "    dZ2_dW2 = A1\n",
    "    dZ2_dA1 = w_hidden2\n",
    "    dC_dZ2 = dC_dA2 * dA2_dZ2\n",
    "\n",
    "    dC_dA1 = dZ2_dA1.T @ dC_dZ2\n",
    "    dA1_dZ1 = d_relu(Z1)\n",
    "    dZ1_dW1 = X\n",
    "    dC_dZ1 = dC_dA1 * dA1_dZ1\n",
    "\n",
    "    dC_dW3 = dC_dZ3 @ dZ3_dW3.T\n",
    "    # dC_dB3 (almacena suma) gradiente total de la función de costo con respecto al sesgo\n",
    "    # np.sum() # suma los gradientes para cada muestra de entrenamiento\n",
    "    # dC_dZ3 como cambia el costo cuando cambia la entrada \n",
    "    # axis = 1 a lo largo del eje 1 (columnas)\n",
    "    # keepdims mantiene la dimension original\n",
    "    dC_dB3 = np.sum(dC_dZ3, axis=1, keepdims=True)  \n",
    "\n",
    "    dC_dW2 = dC_dZ2 @ dZ2_dW2.T\n",
    "    dC_dB2 = np.sum(dC_dZ2, axis=1, keepdims=True)\n",
    "\n",
    "    dC_dW1 = dC_dZ1 @ dZ1_dW1.T\n",
    "    dC_dB1 = np.sum(dC_dZ1, axis=1, keepdims=True)\n",
    "    \n",
    "    return dC_dW1, dC_dB1, dC_dW2, dC_dB2, dC_dW3, dC_dB3\n",
    "\n"
   ]
  },
  {
   "cell_type": "markdown",
   "metadata": {},
   "source": [
    "#### Descenso de Gradiente Estocástico"
   ]
  },
  {
   "cell_type": "code",
   "execution_count": 13,
   "metadata": {},
   "outputs": [],
   "source": [
    "for i in range(150_000):\n",
    "    # seleccionar aleatoriamente uno de los datos de entrenamiento\n",
    "    idx = np.random.choice(n, 1, replace=False)\n",
    "    X_sample = X_train[idx].transpose()\n",
    "    Y_sample = Y_train[idx]\n",
    "\n",
    "    # pasar datos seleccionados aleatoriamente a través de la red neuronal\n",
    "    Z1, A1, Z2, A2, Z3, A3 = forward_prop(X_sample)\n",
    "\n",
    "    # distribuir error a través de la retropropagación\n",
    "    # y devolver pendientes para pesos y sesgos\n",
    "    dW1, dB1, dW2, dB2, dW3, dB3 = backward_prop(Z1, A1, Z2, A2, Z3, A3, X_sample, Y_sample)\n",
    "\n",
    "    # actualizar pesos y sesgos\n",
    "    w_hidden -= L * dW1\n",
    "    b_hidden -= L * dB1\n",
    "    w_hidden2 -= L * dW2\n",
    "    b_hidden2 -= L * dB2\n",
    "    w_output -= L * dW3\n",
    "    b_output -= L * dB3"
   ]
  },
  {
   "cell_type": "markdown",
   "metadata": {},
   "source": [
    "Precisión Red Entrenada"
   ]
  },
  {
   "cell_type": "code",
   "execution_count": 14,
   "metadata": {},
   "outputs": [
    {
     "name": "stdout",
     "output_type": "stream",
     "text": [
      "Train Accuracy: 0.928567303805509\n",
      "Test Accuracy: 0.9238942141124841\n"
     ]
    }
   ],
   "source": [
    "# Calculo de precisión de entrenamiento\n",
    "train_predictions = forward_prop(X_train.transpose())[5]  # Obtener A3 para el conjunto de entrenamiento\n",
    "train_comparisons = np.equal((train_predictions >= .5).flatten().astype(int), Y_train)\n",
    "train_accuracy = sum(train_comparisons.astype(int)) / X_train.shape[0]\n",
    "\n",
    "print(f\"Train Accuracy: {train_accuracy}\")\n",
    "    \n",
    "    \n",
    "# Calculo de precisión de prueba\n",
    "test_predictions = forward_prop(X_test.transpose())[5]  # Obtener A3 para el conjunto de prueba\n",
    "test_comparisons = np.equal((test_predictions >= .5).flatten().astype(int), Y_test)\n",
    "test_accuracy = sum(test_comparisons.astype(int)) / X_test.shape[0]\n",
    "\n",
    "print(f\"Test Accuracy: {test_accuracy}\")\n"
   ]
  },
  {
   "cell_type": "markdown",
   "metadata": {},
   "source": [
    "### Probando la Red"
   ]
  },
  {
   "cell_type": "code",
   "execution_count": 17,
   "metadata": {},
   "outputs": [
    {
     "data": {
      "text/html": [
       "<div>\n",
       "<style scoped>\n",
       "    .dataframe tbody tr th:only-of-type {\n",
       "        vertical-align: middle;\n",
       "    }\n",
       "\n",
       "    .dataframe tbody tr th {\n",
       "        vertical-align: top;\n",
       "    }\n",
       "\n",
       "    .dataframe thead th {\n",
       "        text-align: right;\n",
       "    }\n",
       "</style>\n",
       "<table border=\"1\" class=\"dataframe\">\n",
       "  <thead>\n",
       "    <tr style=\"text-align: right;\">\n",
       "      <th></th>\n",
       "      <th>Customer Type</th>\n",
       "      <th>Type of Travel</th>\n",
       "      <th>Class</th>\n",
       "      <th>Flight Distance</th>\n",
       "      <th>Inflight wifi service</th>\n",
       "      <th>Ease of Online booking</th>\n",
       "      <th>Food and drink</th>\n",
       "      <th>Online boarding</th>\n",
       "      <th>Seat comfort</th>\n",
       "      <th>Inflight entertainment</th>\n",
       "      <th>On-board service</th>\n",
       "      <th>Leg room service</th>\n",
       "      <th>Baggage handling</th>\n",
       "      <th>Checkin service</th>\n",
       "      <th>Inflight service</th>\n",
       "      <th>Cleanliness</th>\n",
       "      <th>Satisfaction</th>\n",
       "    </tr>\n",
       "  </thead>\n",
       "  <tbody>\n",
       "    <tr>\n",
       "      <th>0</th>\n",
       "      <td>0</td>\n",
       "      <td>0</td>\n",
       "      <td>1</td>\n",
       "      <td>0</td>\n",
       "      <td>5</td>\n",
       "      <td>4</td>\n",
       "      <td>5</td>\n",
       "      <td>4</td>\n",
       "      <td>3</td>\n",
       "      <td>5</td>\n",
       "      <td>4</td>\n",
       "      <td>5</td>\n",
       "      <td>3</td>\n",
       "      <td>5</td>\n",
       "      <td>4</td>\n",
       "      <td>5</td>\n",
       "      <td>satisfied</td>\n",
       "    </tr>\n",
       "  </tbody>\n",
       "</table>\n",
       "</div>"
      ],
      "text/plain": [
       "   Customer Type  Type of Travel  Class  Flight Distance  \\\n",
       "0              0               0      1                0   \n",
       "\n",
       "   Inflight wifi service  Ease of Online booking  Food and drink  \\\n",
       "0                      5                       4               5   \n",
       "\n",
       "   Online boarding  Seat comfort  Inflight entertainment  On-board service  \\\n",
       "0                4             3                       5                 4   \n",
       "\n",
       "   Leg room service  Baggage handling  Checkin service  Inflight service  \\\n",
       "0                 5                 3                5                 4   \n",
       "\n",
       "   Cleanliness Satisfaction  \n",
       "0            5    satisfied  "
      ]
     },
     "execution_count": 17,
     "metadata": {},
     "output_type": "execute_result"
    }
   ],
   "source": [
    "import numpy as np\n",
    "import pandas as pd\n",
    "\n",
    "# Diccionarios definidos previamente\n",
    "cus_type = {'Loyal Customer': 0, 'disloyal Customer': 1}\n",
    "travel_type = {'Business travel': 0, 'Personal Travel': 1}\n",
    "clasS = {'Business': 2, 'Eco': 1, 'Eco Plus': 0}\n",
    "flight_dist = {(31, 650): 0, (650, 1269): 1, (1269, 1888): 2, (1888, 2507): 3,\n",
    "               (2507, 3126): 4, (3126, 3745): 5, (3745, 4364): 6, (4364, 4984): 7}\n",
    "\n",
    "# Función para pedir datos al usuario\n",
    "def pedir_datos():\n",
    "    customer_type = input(\"Customer Type (Loyal Customer, disloyal Customer): \")\n",
    "    type_of_travel = input(\"Type of Travel (Business travel, Personal Travel): \")\n",
    "    clasS_input = input(\"Class (Business, Eco, Eco Plus): \")\n",
    "    flight_distance = int(input(\"Flight Distance (31-4984): \"))\n",
    "    \n",
    "    inflight_wifi = int(input(\"Inflight wifi service (0-5): \"))\n",
    "    online_booking = int(input(\"Ease of Online booking (0-5): \"))\n",
    "    food_drink = int(input(\"Food and drink (0-5): \"))\n",
    "    online_boarding = int(input(\"Online boarding (0-5): \"))\n",
    "    seat_comfort = int(input(\"Seat comfort (0-5): \"))\n",
    "    inflight_entertainment = int(input(\"Inflight entertainment (0-5): \"))\n",
    "    onboard_service = int(input(\"On-board service (0-5): \"))\n",
    "    legroom_service = int(input(\"Leg room service (0-5): \"))\n",
    "    baggage_handling = int(input(\"Baggage handling (0-5): \"))\n",
    "    checkin_service = int(input(\"Checkin service (0-5): \"))\n",
    "    inflight_service = int(input(\"Inflight service (0-5): \"))\n",
    "    cleanliness = int(input(\"Cleanliness (0-5): \"))\n",
    "    \n",
    "    return {\n",
    "        'Customer Type': cus_type[customer_type],\n",
    "        'Type of Travel': travel_type[type_of_travel],\n",
    "        'Class': clasS[clasS_input],\n",
    "        'Flight Distance': get_flight_distance(flight_distance),\n",
    "        'Inflight wifi service': inflight_wifi,\n",
    "        'Ease of Online booking': online_booking,\n",
    "        'Food and drink': food_drink,\n",
    "        'Online boarding': online_boarding,\n",
    "        'Seat comfort': seat_comfort,\n",
    "        'Inflight entertainment': inflight_entertainment,\n",
    "        'On-board service': onboard_service,\n",
    "        'Leg room service': legroom_service,\n",
    "        'Baggage handling': baggage_handling,\n",
    "        'Checkin service': checkin_service,\n",
    "        'Inflight service': inflight_service,\n",
    "        'Cleanliness': cleanliness\n",
    "    }\n",
    "\n",
    "# Función para convertir la distancia de vuelo al rango correspondiente\n",
    "def get_flight_distance(distance):\n",
    "    for key, value in flight_dist.items():\n",
    "        if key[0] <= distance < key[1]:\n",
    "            return value\n",
    "    return flight_dist[(4364, 4984)]\n",
    "\n",
    "# Solicitar al usuario que ingrese los datos\n",
    "datos_usuario = pedir_datos()\n",
    "\n",
    "# Convertir los datos a un DataFrame de Pandas\n",
    "new_data = pd.DataFrame([datos_usuario])\n",
    "\n",
    "# Escalar los datos de entrada\n",
    "new_inputs = scaler.transform(new_data.values)\n",
    "Z1, A1, Z2, A2, Z3, A3 = forward_prop(new_inputs.transpose())\n",
    "\n",
    "# Definir una función para clasificar la satisfacción\n",
    "def clasificar_satisfaccion(valor):\n",
    "    if valor >= 0.5:\n",
    "        return \"satisfied\"\n",
    "    else:\n",
    "        return \"neutral or dissatisfied\"\n",
    "\n",
    "# Clasificar la satisfacción para cada dato de entrada\n",
    "satisfaccion_estimada = [clasificar_satisfaccion(valor) for valor in A3[0]]\n",
    "\n",
    "# Agregar la satisfacción predicha al DataFrame\n",
    "new_data['Satisfaction'] = satisfaccion_estimada\n",
    "\n",
    "# Imprimir los datos con la satisfacción predicha\n",
    "new_data\n"
   ]
  },
  {
   "cell_type": "markdown",
   "metadata": {},
   "source": [
    "### Scikit-Learn"
   ]
  },
  {
   "cell_type": "code",
   "execution_count": 413,
   "metadata": {},
   "outputs": [
    {
     "name": "stdout",
     "output_type": "stream",
     "text": [
      "Puntaje del conjunto de entrenamiento: 0.948317\n",
      "Puntaje del conjunto de prueba: 0.944335\n"
     ]
    }
   ],
   "source": [
    "import pandas as pd\n",
    "# cargar datos\n",
    "from sklearn.model_selection import train_test_split\n",
    "from sklearn.neural_network import MLPClassifier\n",
    "\n",
    "df = pd.read_csv('pasajeros_actualizado.csv')\n",
    "\n",
    "# Extraer variables de entrada (todas las filas, todas las columnas menos la última)\n",
    "# Nota que deberíamos hacer algún escalado lineal aquí\n",
    "X = (df.values[:, :-1])\n",
    "\n",
    "# Extraer columna de salida (todas las filas, última columna)\n",
    "Y = df.values[:, -1]\n",
    "\n",
    "# Separar los datos de entrenamiento y prueba\n",
    "X_train, X_test, Y_train, Y_test = train_test_split(X, Y, test_size=1/3)\n",
    "\n",
    "nn = MLPClassifier(solver='adam',\n",
    "                   hidden_layer_sizes=(12, 8, ),\n",
    "                   activation='relu',\n",
    "                   max_iter=150_000,\n",
    "                   learning_rate_init=.01)\n",
    "\n",
    "nn.fit(X_train, Y_train)\n",
    "\n",
    "print(\"Puntaje del conjunto de entrenamiento: %f\" % nn.score(X_train, Y_train))\n",
    "print(\"Puntaje del conjunto de prueba: %f\" % nn.score(X_test, Y_test))\n"
   ]
  }
 ],
 "metadata": {
  "kernelspec": {
   "display_name": "Python 3",
   "language": "python",
   "name": "python3"
  },
  "language_info": {
   "codemirror_mode": {
    "name": "ipython",
    "version": 3
   },
   "file_extension": ".py",
   "mimetype": "text/x-python",
   "name": "python",
   "nbconvert_exporter": "python",
   "pygments_lexer": "ipython3",
   "version": "3.12.3"
  }
 },
 "nbformat": 4,
 "nbformat_minor": 2
}
