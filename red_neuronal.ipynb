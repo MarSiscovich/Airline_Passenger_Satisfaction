{
 "cells": [
  {
   "cell_type": "markdown",
   "metadata": {},
   "source": [
    "# Parte 2: Desarrollo de la Red Neuronal"
   ]
  },
  {
   "cell_type": "markdown",
   "metadata": {},
   "source": [
    "### Forward Propagation"
   ]
  },
  {
   "cell_type": "code",
   "execution_count": 406,
   "metadata": {},
   "outputs": [
    {
     "name": "stdout",
     "output_type": "stream",
     "text": [
      "17317\n"
     ]
    }
   ],
   "source": [
    "from tkinter import X, Y\n",
    "import numpy as np\n",
    "import pandas as pd\n",
    "from sklearn.model_selection import train_test_split\n",
    "from sklearn.preprocessing import StandardScaler\n",
    "\n",
    "all_data = pd.read_csv(\"pasajeros_actualizado.csv\")\n",
    "\n",
    "# Extraer columnas de entrada, escalarlas dividiendo por 255\n",
    "all_inputs = all_data.iloc[:, 0:16].values\n",
    "all_outputs = all_data.iloc[:, -1].values\n",
    "scaler = StandardScaler()\n",
    "all_inputs = scaler.fit_transform(all_inputs)\n",
    "\n",
    "# Dividir los conjuntos de datos de entrenamiento y prueba\n",
    "X_train, X_test, Y_train, Y_test = train_test_split(all_inputs, all_outputs, test_size=1 / 3)\n",
    "n = X_train.shape[0]\n",
    "print(n)\n",
    "\n",
    "# Funciones de activación\n",
    "relu = lambda x: np.maximum(x, 0)\n",
    "logistic = lambda x: 1 / (1 + np.exp(-x))\n",
    "\n",
    "# Construir red neuronal con pesos y sesgos inicializados aleatoriamente\n",
    "np.random.seed(79)\n",
    "w_hidden = np.random.rand(12, 16)        \n",
    "w_hidden2 = np.random.rand(8, 12)        \n",
    "w_output = np.random.rand(1, 8)         \n",
    "\n",
    "b_hidden = np.random.rand(12, 1)         \n",
    "b_hidden2 = np.random.rand(8, 1)        \n",
    "b_output = np.random.rand(1, 1)         \n",
    "\n",
    "# Ejecutar entradas a través de la red neuronal para obtener salidas predichas\n",
    "def forward_prop(X):\n",
    "    Z1 = w_hidden @ X + b_hidden        \n",
    "    A1 = relu(Z1)\n",
    "    Z2 = w_hidden2 @ A1 + b_hidden2     \n",
    "    A2 = relu(Z2)\n",
    "    Z3 = w_output @ A2 + b_output       \n",
    "    A3 = logistic(Z3)\n",
    "    return Z1, A1, Z2, A2, Z3, A3"
   ]
  },
  {
   "cell_type": "markdown",
   "metadata": {},
   "source": [
    "Precisión No entrenada"
   ]
  },
  {
   "cell_type": "code",
   "execution_count": 407,
   "metadata": {},
   "outputs": [
    {
     "name": "stdout",
     "output_type": "stream",
     "text": [
      "0.4381568310428164\n"
     ]
    }
   ],
   "source": [
    "# Calculo de precisión\n",
    "test_predictions = forward_prop(X_test.transpose())[5] \n",
    "test_comparisons = np.equal((test_predictions >= .5).flatten().astype(int), Y_test)\n",
    "accuracy = sum(test_comparisons.astype(int) / X_test.shape[0])\n",
    "\n",
    "print(accuracy)"
   ]
  },
  {
   "cell_type": "markdown",
   "metadata": {},
   "source": [
    "### Back Propagation"
   ]
  },
  {
   "cell_type": "code",
   "execution_count": 410,
   "metadata": {},
   "outputs": [],
   "source": [
    "# Tasa de aprendizaje\n",
    "L = 0.01\n",
    "\n",
    "# Derivadas de las funciones de activación\n",
    "d_relu = lambda x: x > 0\n",
    "d_logistic = lambda x: np.exp(-x) / (1 + np.exp(-x)) ** 2\n",
    "\n",
    "# Función de backward propagation\n",
    "def backward_prop(Z1, A1, Z2, A2, Z3, A3, X, Y):\n",
    "    dC_dA3 = 2 * (A3 - Y)           \n",
    "    dA3_dZ3 = d_logistic(Z3)\n",
    "    dZ3_dW3 = A2\n",
    "    dZ3_dA2 = w_output\n",
    "    dC_dZ3 = dC_dA3 * dA3_dZ3\n",
    "\n",
    "    dC_dA2 = dZ3_dA2.T @ dC_dZ3\n",
    "    dA2_dZ2 = d_relu(Z2)\n",
    "    dZ2_dW2 = A1\n",
    "    dZ2_dA1 = w_hidden2\n",
    "    dC_dZ2 = dC_dA2 * dA2_dZ2\n",
    "\n",
    "    dC_dA1 = dZ2_dA1.T @ dC_dZ2\n",
    "    dA1_dZ1 = d_relu(Z1)\n",
    "    dZ1_dW1 = X\n",
    "    dC_dZ1 = dC_dA1 * dA1_dZ1\n",
    "\n",
    "    dC_dW3 = dC_dZ3 @ dZ3_dW3.T\n",
    "    dC_dB3 = np.sum(dC_dZ3, axis=1, keepdims=True)\n",
    "\n",
    "    dC_dW2 = dC_dZ2 @ dZ2_dW2.T\n",
    "    dC_dB2 = np.sum(dC_dZ2, axis=1, keepdims=True)\n",
    "\n",
    "    dC_dW1 = dC_dZ1 @ dZ1_dW1.T\n",
    "    dC_dB1 = np.sum(dC_dZ1, axis=1, keepdims=True)\n",
    "    \n",
    "    return dC_dW1, dC_dB1, dC_dW2, dC_dB2, dC_dW3, dC_dB3\n",
    "\n"
   ]
  },
  {
   "cell_type": "markdown",
   "metadata": {},
   "source": [
    "#### Descenso de Gradiente Estocástico"
   ]
  },
  {
   "cell_type": "code",
   "execution_count": 411,
   "metadata": {},
   "outputs": [],
   "source": [
    "for i in range(150_000):\n",
    "    # seleccionar aleatoriamente uno de los datos de entrenamiento\n",
    "    idx = np.random.choice(n, 1, replace=False)\n",
    "    X_sample = X_train[idx].transpose()\n",
    "    Y_sample = Y_train[idx]\n",
    "\n",
    "    # pasar datos seleccionados aleatoriamente a través de la red neuronal\n",
    "    Z1, A1, Z2, A2, Z3, A3 = forward_prop(X_sample)\n",
    "\n",
    "    # distribuir error a través de la retropropagación\n",
    "    # y devolver pendientes para pesos y sesgos\n",
    "    dW1, dB1, dW2, dB2, dW3, dB3 = backward_prop(Z1, A1, Z2, A2, Z3, A3, X_sample, Y_sample)\n",
    "\n",
    "    # actualizar pesos y sesgos\n",
    "    w_hidden -= L * dW1\n",
    "    b_hidden -= L * dB1\n",
    "    w_hidden2 -= L * dW2\n",
    "    b_hidden2 -= L * dB2\n",
    "    w_output -= L * dW3\n",
    "    b_output -= L * dB3"
   ]
  },
  {
   "cell_type": "markdown",
   "metadata": {},
   "source": [
    "Precisión Red Entrenada"
   ]
  },
  {
   "cell_type": "code",
   "execution_count": 412,
   "metadata": {},
   "outputs": [
    {
     "name": "stdout",
     "output_type": "stream",
     "text": [
      "Train Accuracy: 0.9364786048391753\n",
      "Test Accuracy: 0.9318628017092043\n"
     ]
    }
   ],
   "source": [
    "# Calculo de precisión de entrenamiento\n",
    "train_predictions = forward_prop(X_train.transpose())[5]  # Obtener A3 para el conjunto de entrenamiento\n",
    "train_comparisons = np.equal((train_predictions >= .5).flatten().astype(int), Y_train)\n",
    "train_accuracy = sum(train_comparisons.astype(int)) / X_train.shape[0]\n",
    "\n",
    "print(f\"Train Accuracy: {train_accuracy}\")\n",
    "    \n",
    "    \n",
    "# Calculo de precisión de prueba\n",
    "test_predictions = forward_prop(X_test.transpose())[5]  # Obtener A3 para el conjunto de prueba\n",
    "test_comparisons = np.equal((test_predictions >= .5).flatten().astype(int), Y_test)\n",
    "test_accuracy = sum(test_comparisons.astype(int)) / X_test.shape[0]\n",
    "\n",
    "print(f\"Test Accuracy: {test_accuracy}\")\n"
   ]
  },
  {
   "cell_type": "markdown",
   "metadata": {},
   "source": [
    "### Scikit-Learn"
   ]
  },
  {
   "cell_type": "code",
   "execution_count": 413,
   "metadata": {},
   "outputs": [
    {
     "name": "stdout",
     "output_type": "stream",
     "text": [
      "Puntaje del conjunto de entrenamiento: 0.948317\n",
      "Puntaje del conjunto de prueba: 0.944335\n"
     ]
    }
   ],
   "source": [
    "import pandas as pd\n",
    "# cargar datos\n",
    "from sklearn.model_selection import train_test_split\n",
    "from sklearn.neural_network import MLPClassifier\n",
    "\n",
    "df = pd.read_csv('pasajeros_actualizado.csv')\n",
    "\n",
    "# Extraer variables de entrada (todas las filas, todas las columnas menos la última)\n",
    "# Nota que deberíamos hacer algún escalado lineal aquí\n",
    "X = (df.values[:, :-1])\n",
    "\n",
    "# Extraer columna de salida (todas las filas, última columna)\n",
    "Y = df.values[:, -1]\n",
    "\n",
    "# Separar los datos de entrenamiento y prueba\n",
    "X_train, X_test, Y_train, Y_test = train_test_split(X, Y, test_size=1/3)\n",
    "\n",
    "nn = MLPClassifier(solver='adam',\n",
    "                   hidden_layer_sizes=(12, 8, ),\n",
    "                   activation='relu',\n",
    "                   max_iter=150_000,\n",
    "                   learning_rate_init=.01)\n",
    "\n",
    "nn.fit(X_train, Y_train)\n",
    "\n",
    "print(\"Puntaje del conjunto de entrenamiento: %f\" % nn.score(X_train, Y_train))\n",
    "print(\"Puntaje del conjunto de prueba: %f\" % nn.score(X_test, Y_test))\n"
   ]
  }
 ],
 "metadata": {
  "kernelspec": {
   "display_name": "Python 3",
   "language": "python",
   "name": "python3"
  },
  "language_info": {
   "codemirror_mode": {
    "name": "ipython",
    "version": 3
   },
   "file_extension": ".py",
   "mimetype": "text/x-python",
   "name": "python",
   "nbconvert_exporter": "python",
   "pygments_lexer": "ipython3",
   "version": "3.12.3"
  }
 },
 "nbformat": 4,
 "nbformat_minor": 2
}
